{
 "cells": [
  {
   "cell_type": "markdown",
   "id": "0889e7b5",
   "metadata": {},
   "source": [
    "Project begins here. Import required libraries/functions"
   ]
  },
  {
   "cell_type": "code",
   "execution_count": 13,
   "id": "590d000c",
   "metadata": {},
   "outputs": [],
   "source": [
    "import pandas as pd\n",
    "\n",
    "from sklearn.model_selection import train_test_split"
   ]
  },
  {
   "cell_type": "markdown",
   "id": "da747f6c",
   "metadata": {},
   "source": [
    "Import raw data in csv file. Manuall enter the required data."
   ]
  },
  {
   "cell_type": "code",
   "execution_count": 14,
   "id": "2c0bea87",
   "metadata": {},
   "outputs": [
    {
     "name": "stdout",
     "output_type": "stream",
     "text": [
      "   id  majority_target                                          statement  \\\n",
      "0   0             True  End of eviction moratorium means millions of A...   \n",
      "1   1             True  End of eviction moratorium means millions of A...   \n",
      "2   2             True  End of eviction moratorium means millions of A...   \n",
      "3   3             True  End of eviction moratorium means millions of A...   \n",
      "4   4             True  End of eviction moratorium means millions of A...   \n",
      "\n",
      "   BinaryNumTarget                                              tweet  \\\n",
      "0                1  @POTUS Biden Blunders - 6 Month Update\\n\\nInfl...   \n",
      "1                1  @S0SickRick @Stairmaster_ @6d6f636869 Not as m...   \n",
      "2                1  THE SUPREME COURT is siding with super rich pr...   \n",
      "3                1  @POTUS Biden Blunders\\n\\nBroken campaign promi...   \n",
      "4                1  @OhComfy I agree. The confluence of events rig...   \n",
      "\n",
      "   followers_count  friends_count  favourites_count  statuses_count  \\\n",
      "0             4262           3619             34945           16423   \n",
      "1             1393           1621             31436           37184   \n",
      "2                9             84               219            1184   \n",
      "3             4262           3619             34945           16423   \n",
      "4               70            166             15282            2194   \n",
      "\n",
      "   listed_count  ...  determiners conjunctions  dots  exclamation  questions  \\\n",
      "0            44  ...            0            0     5            0          1   \n",
      "1            64  ...            0            2     1            0          0   \n",
      "2             0  ...            0            1     0            0          0   \n",
      "3            44  ...            0            1     3            0          0   \n",
      "4             0  ...            0            1     3            0          1   \n",
      "\n",
      "   ampersand  capitals  digits  long_word_freq  short_word_freq  \n",
      "0          0        33       3               5               19  \n",
      "1          0        14       0               2               34  \n",
      "2          0         3       0               4               10  \n",
      "3          1         6       8               1               30  \n",
      "4          0        11       3               2               19  \n",
      "\n",
      "[5 rows x 64 columns]\n"
     ]
    }
   ],
   "source": [
    "#Enter file name, tweet clomun, and label column of dataset to be split\n",
    "file = \"Twitter_Analysis.csv\"\n",
    "tweet_column = 'tweet'\n",
    "label_column = 'majority_target'\n",
    "output_training_file = 'extra_posts_train.csv'\n",
    "output_testing_file = 'extra_posts_test.csv'\n",
    "output_validation_file = 'extra_posts_val.csv'\n",
    "\n",
    "posts_df = pd.read_csv(file)\n",
    "print(posts_df.head())\n"
   ]
  },
  {
   "cell_type": "markdown",
   "id": "c202a9f9",
   "metadata": {},
   "source": [
    "Isolate selected columns in the order of id, post, true/false. Remove any rows that are missing either the post or true/false data.\n"
   ]
  },
  {
   "cell_type": "code",
   "execution_count": 15,
   "id": "8f7e1145",
   "metadata": {},
   "outputs": [
    {
     "name": "stdout",
     "output_type": "stream",
     "text": [
      "                                               tweet label\n",
      "0  @POTUS Biden Blunders - 6 Month Update\\n\\nInfl...  real\n",
      "1  @S0SickRick @Stairmaster_ @6d6f636869 Not as m...  real\n",
      "2  THE SUPREME COURT is siding with super rich pr...  real\n",
      "3  @POTUS Biden Blunders\\n\\nBroken campaign promi...  real\n",
      "4  @OhComfy I agree. The confluence of events rig...  real\n"
     ]
    }
   ],
   "source": [
    "\n",
    "\n",
    "\n",
    "def convert_true_false_to_bool(true_false):\n",
    "        if true_false:\n",
    "            return \"real\"\n",
    "        else:\n",
    "            return \"fake\"\n",
    "        \n",
    "posts_df[label_column] = posts_df[label_column].apply(convert_true_false_to_bool)\n",
    "\n",
    "posts_df = posts_df[[ tweet_column, label_column]]\n",
    "posts_df.columns = ['tweet', 'label']\n",
    "posts_df = posts_df.dropna(subset=['tweet', 'label'])\n",
    "print(posts_df.head())"
   ]
  },
  {
   "cell_type": "markdown",
   "id": "bab7abe2",
   "metadata": {},
   "source": [
    "Split the data into training and test sets and then split the training set further into training and validation sets.\n",
    "Final data split will be 80% Training data, 20% Testing data, 20% Validation data."
   ]
  },
  {
   "cell_type": "code",
   "execution_count": 16,
   "id": "ba791463",
   "metadata": {},
   "outputs": [
    {
     "name": "stdout",
     "output_type": "stream",
     "text": [
      "80518\n",
      "                                                    tweet label\n",
      "35529   @Destroy_Boi @VancityReynolds @WhenWeAllVote B...  real\n",
      "58710   In 12 states, more than half of the prison pop...  real\n",
      "54086   @sonofgod5bc33ad @PodSaveAmerica Sadly, I stro...  fake\n",
      "16646   @RepMattGaetz Republican Rick Scott stole mill...  real\n",
      "123489  My historical knowledge is focussed on things ...  fake\n",
      "26840\n",
      "                                                    tweet label\n",
      "13178   @RepStevenSmith @realDonaldTrump Ilhan Omar (D...  real\n",
      "82345   @gemmacaddell86 Still locked down over the bor...  fake\n",
      "98759   @TracyBethHoeg @bergerbell @MonicaGandhi9 @Lan...  fake\n",
      "66650   @StephenMoore The American do NOT want a payro...  real\n",
      "122280  @CNN Just curious. Have u guys aired this piec...  fake\n",
      "26840\n",
      "                                                    tweet label\n",
      "122451  @fattycattie @robquinnpc @SammyTMcCarty @WCCO ...  fake\n",
      "14029   never forget, Matt Santos ran on Medicare for ...  real\n",
      "51449   @BilldeBlasio You are mandating an experimenta...  fake\n",
      "17981   @SenSanders The working class is literally bei...  real\n",
      "66284   @PeterTong9 @timand2037 @ClimateAudit But none...  real\n"
     ]
    }
   ],
   "source": [
    "posts_train_val, posts_test = train_test_split(posts_df, test_size=0.2, random_state=42)\n",
    "posts_train, posts_val = train_test_split(posts_train_val, test_size=0.25, random_state=42)\n",
    "\n",
    "print(len(posts_train))\n",
    "print(posts_train.head())\n",
    "print(len(posts_val))\n",
    "print(posts_val.head())\n",
    "print(len(posts_test))\n",
    "print(posts_test.head())\n"
   ]
  },
  {
   "cell_type": "markdown",
   "id": "226eb935",
   "metadata": {},
   "source": [
    "Export the datasets as csv files."
   ]
  },
  {
   "cell_type": "code",
   "execution_count": 17,
   "id": "e2d48d3f",
   "metadata": {},
   "outputs": [],
   "source": [
    "posts_train.to_csv(output_training_file, index=False)\n",
    "posts_test.to_csv(output_testing_file, index=False)\n",
    "posts_val.to_csv(output_validation_file, index=False)"
   ]
  }
 ],
 "metadata": {
  "kernelspec": {
   "display_name": "Python 3",
   "language": "python",
   "name": "python3"
  },
  "language_info": {
   "codemirror_mode": {
    "name": "ipython",
    "version": 3
   },
   "file_extension": ".py",
   "mimetype": "text/x-python",
   "name": "python",
   "nbconvert_exporter": "python",
   "pygments_lexer": "ipython3",
   "version": "3.13.7"
  }
 },
 "nbformat": 4,
 "nbformat_minor": 5
}
