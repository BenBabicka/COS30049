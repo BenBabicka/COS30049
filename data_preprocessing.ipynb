{
 "cells": [
  {
   "cell_type": "markdown",
   "id": "0889e7b5",
   "metadata": {},
   "source": [
    "Project begins here. Import required libraries/functions"
   ]
  },
  {
   "cell_type": "code",
   "execution_count": 72,
   "id": "590d000c",
   "metadata": {},
   "outputs": [],
   "source": [
    "import pandas as pd\n",
    "import numpy as np\n",
    "import re, math, hashlib, ast, sys, io, random\n",
    "from collections import Counter\n",
    "import matplotlib.pyplot as plt\n",
    "\n",
    "from sklearn.model_selection import train_test_split\n",
    "from sklearn.preprocessing import StandardScaler\n",
    "from sklearn.feature_extraction.text import CountVectorizer, TfidfVectorizer\n",
    "from sklearn.linear_model import LogisticRegression\n",
    "from sklearn.metrics import classification_report, confusion_matrix, accuracy_score"
   ]
  },
  {
   "cell_type": "markdown",
   "id": "da747f6c",
   "metadata": {},
   "source": [
    "Import raw data in csv file."
   ]
  },
  {
   "cell_type": "code",
   "execution_count": 73,
   "id": "2c0bea87",
   "metadata": {},
   "outputs": [
    {
     "name": "stdout",
     "output_type": "stream",
     "text": [
      "   id                                               post  true  \\\n",
      "0   0  @POTUS Biden Blunders - 6 Month Update\\n\\nInfl...     1   \n",
      "1   1  @S0SickRick @Stairmaster_ @6d6f636869 Not as m...     1   \n",
      "2   2  THE SUPREME COURT is siding with super rich pr...     1   \n",
      "3   3  @POTUS Biden Blunders\\n\\nBroken campaign promi...     1   \n",
      "4   4  @OhComfy I agree. The confluence of events rig...     1   \n",
      "\n",
      "                                        cleaned_post  \n",
      "0  biden blunders 6 month update inflation delta ...  \n",
      "1  not as many people are literally starving and ...  \n",
      "2  the supreme court is siding with super rich pr...  \n",
      "3  biden blunders broken campaign promises inflat...  \n",
      "4  i agree the confluence of events right now is ...  \n"
     ]
    }
   ],
   "source": [
    "posts_df = pd.read_csv(\"Twitter_Analysis.csv\")\n",
    "print(raw_df.head())\n"
   ]
  },
  {
   "cell_type": "markdown",
   "id": "c202a9f9",
   "metadata": {},
   "source": [
    "Isolate selected columns in the order of id, post, true/false. Remove any rows that are missing either the post or true/false data.\n"
   ]
  },
  {
   "cell_type": "code",
   "execution_count": 74,
   "id": "8f7e1145",
   "metadata": {},
   "outputs": [
    {
     "name": "stdout",
     "output_type": "stream",
     "text": [
      "   id                                               post  true\n",
      "0   0  @POTUS Biden Blunders - 6 Month Update\\n\\nInfl...     1\n",
      "1   1  @S0SickRick @Stairmaster_ @6d6f636869 Not as m...     1\n",
      "2   2  THE SUPREME COURT is siding with super rich pr...     1\n",
      "3   3  @POTUS Biden Blunders\\n\\nBroken campaign promi...     1\n",
      "4   4  @OhComfy I agree. The confluence of events rig...     1\n"
     ]
    }
   ],
   "source": [
    "id_column = 'id'\n",
    "post_column = 'tweet'\n",
    "truth_column = 'majority_target'\n",
    "\n",
    "def convert_true_false_to_bool(true_false):\n",
    "        if true_false:\n",
    "            return 1\n",
    "        else:\n",
    "            return 0\n",
    "        \n",
    "posts_df[truth_column] = posts_df[truth_column].apply(convert_true_false_to_bool)\n",
    "\n",
    "posts_df = posts_df[[id_column, post_column, truth_column]]\n",
    "posts_df.columns = ['id', 'post', 'true']\n",
    "posts_df = posts_df.dropna(subset=['post', 'true'])\n",
    "print(posts_df.head())"
   ]
  },
  {
   "cell_type": "markdown",
   "id": "b482ddf0",
   "metadata": {},
   "source": [
    "Normalize text to remove urls, casing, and other symbols."
   ]
  },
  {
   "cell_type": "code",
   "execution_count": 75,
   "id": "bfe64e4b",
   "metadata": {},
   "outputs": [
    {
     "data": {
      "text/html": [
       "<div>\n",
       "<style scoped>\n",
       "    .dataframe tbody tr th:only-of-type {\n",
       "        vertical-align: middle;\n",
       "    }\n",
       "\n",
       "    .dataframe tbody tr th {\n",
       "        vertical-align: top;\n",
       "    }\n",
       "\n",
       "    .dataframe thead th {\n",
       "        text-align: right;\n",
       "    }\n",
       "</style>\n",
       "<table border=\"1\" class=\"dataframe\">\n",
       "  <thead>\n",
       "    <tr style=\"text-align: right;\">\n",
       "      <th></th>\n",
       "      <th>post</th>\n",
       "      <th>cleaned_post</th>\n",
       "      <th>true</th>\n",
       "    </tr>\n",
       "  </thead>\n",
       "  <tbody>\n",
       "    <tr>\n",
       "      <th>0</th>\n",
       "      <td>@POTUS Biden Blunders - 6 Month Update\\n\\nInfl...</td>\n",
       "      <td>biden blunders 6 month update inflation delta ...</td>\n",
       "      <td>1</td>\n",
       "    </tr>\n",
       "    <tr>\n",
       "      <th>1</th>\n",
       "      <td>@S0SickRick @Stairmaster_ @6d6f636869 Not as m...</td>\n",
       "      <td>not as many people are literally starving and ...</td>\n",
       "      <td>1</td>\n",
       "    </tr>\n",
       "    <tr>\n",
       "      <th>2</th>\n",
       "      <td>THE SUPREME COURT is siding with super rich pr...</td>\n",
       "      <td>the supreme court is siding with super rich pr...</td>\n",
       "      <td>1</td>\n",
       "    </tr>\n",
       "    <tr>\n",
       "      <th>3</th>\n",
       "      <td>@POTUS Biden Blunders\\n\\nBroken campaign promi...</td>\n",
       "      <td>biden blunders broken campaign promises inflat...</td>\n",
       "      <td>1</td>\n",
       "    </tr>\n",
       "    <tr>\n",
       "      <th>4</th>\n",
       "      <td>@OhComfy I agree. The confluence of events rig...</td>\n",
       "      <td>i agree the confluence of events right now is ...</td>\n",
       "      <td>1</td>\n",
       "    </tr>\n",
       "  </tbody>\n",
       "</table>\n",
       "</div>"
      ],
      "text/plain": [
       "                                                post  \\\n",
       "0  @POTUS Biden Blunders - 6 Month Update\\n\\nInfl...   \n",
       "1  @S0SickRick @Stairmaster_ @6d6f636869 Not as m...   \n",
       "2  THE SUPREME COURT is siding with super rich pr...   \n",
       "3  @POTUS Biden Blunders\\n\\nBroken campaign promi...   \n",
       "4  @OhComfy I agree. The confluence of events rig...   \n",
       "\n",
       "                                        cleaned_post  true  \n",
       "0  biden blunders 6 month update inflation delta ...     1  \n",
       "1  not as many people are literally starving and ...     1  \n",
       "2  the supreme court is siding with super rich pr...     1  \n",
       "3  biden blunders broken campaign promises inflat...     1  \n",
       "4  i agree the confluence of events right now is ...     1  "
      ]
     },
     "execution_count": 75,
     "metadata": {},
     "output_type": "execute_result"
    }
   ],
   "source": [
    "def clean_text_basic(text: str) -> str:\n",
    "    \"\"\"Basic, OPTIONAL cleaner for social/email text. Keeps semantics coarse.\"\"\"\n",
    "    if not isinstance(text, str):\n",
    "        return \"\"\n",
    "    t = re.sub(r\"http\\S+\",\"\", text)        # remove URLs\n",
    "    t = re.sub(r\"@\\w+\",\"\", t)              # remove mentions\n",
    "    t = t.replace(\"#\",\"\")                  # remove hashtag symbol (keep words)\n",
    "    t = re.sub(r\"[^\\w\\s]\",\" \", t)          # strip heavy punctuation\n",
    "    t = re.sub(r\"\\s+\",\" \", t).strip().lower()\n",
    "    return t\n",
    "\n",
    "posts_df['cleaned_post'] = posts_df['post'].apply(clean_text_basic)\n",
    "posts_df[['post','cleaned_post','true']].head(5)"
   ]
  }
 ],
 "metadata": {
  "kernelspec": {
   "display_name": "Python 3",
   "language": "python",
   "name": "python3"
  },
  "language_info": {
   "codemirror_mode": {
    "name": "ipython",
    "version": 3
   },
   "file_extension": ".py",
   "mimetype": "text/x-python",
   "name": "python",
   "nbconvert_exporter": "python",
   "pygments_lexer": "ipython3",
   "version": "3.13.7"
  }
 },
 "nbformat": 4,
 "nbformat_minor": 5
}
